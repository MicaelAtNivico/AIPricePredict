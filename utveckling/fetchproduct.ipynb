{
 "cells": [
  {
   "cell_type": "code",
   "execution_count": null,
   "metadata": {},
   "outputs": [
    {
     "name": "stdout",
     "output_type": "stream",
     "text": [
      "{\"products\":[{\"id\":\"3331926709\",\"name\":\"Apple iPhone 16 Pro Max, 256GB\",\"url\":\"/pl/1-3331926709/Mobiltelefoner/Apple-iPhone-16-Pro-Max-256GB-priser\",\"categoryName\":\"Mobiltelefoner\",\"lowestPrice\":{\"amount\":\"15490.00\",\"currency\":\"SEK\"},\"image\":{\"id\":\"3139776352\",\"url\":null,\"path\":\"/product/3139776352/Apple-iPhone-16-Pro-Max-256GB.jpg\",\"description\":\"Apple iPhone 16 Pro Max, 256GB\"}},{\"id\":\"3331926022\",\"name\":\"Apple iPhone 16 Pro, 128GB\",\"url\":\"/pl/1-3331926022/Mobiltelefoner/Apple-iPhone-16-Pro-128GB-priser\",\"categoryName\":\"Mobiltelefoner\",\"lowestPrice\":{\"amount\":\"12790.00\",\"currency\":\"SEK\"},\"image\":{\"id\":\"3136255794\",\"url\":null,\"path\":\"/product/3136255794/Apple-iPhone-16-Pro-128GB.jpg\",\"description\":\"Apple iPhone 16 Pro, 128GB\"}},{\"id\":\"3331926162\",\"name\":\"Apple iPhone 16 Pro, 256GB\",\"url\":\"/pl/1-3331926162/Mobiltelefoner/Apple-iPhone-16-Pro-256GB-priser\",\"categoryName\":\"Mobiltelefoner\",\"lowestPrice\":{\"amount\":\"14280.00\",\"currency\":\"SEK\"},\"image\":{\"id\":\"3136255763\",\"url\":null,\"path\":\"/product/3136255763/Apple-iPhone-16-Pro-256GB.jpg\",\"description\":\"Apple iPhone 16 Pro, 256GB\"}},{\"id\":\"3331957792\",\"name\":\"Apple iPhone 16, 128GB\",\"url\":\"/pl/1-3331957792/Mobiltelefoner/Apple-iPhone-16-128GB-priser\",\"categoryName\":\"Mobiltelefoner\",\"lowestPrice\":{\"amount\":\"9960.00\",\"currency\":\"SEK\"},\"image\":{\"id\":\"3136271184\",\"url\":null,\"path\":\"/product/3136271184/Apple-iPhone-16-128GB.jpg\",\"description\":\"Apple iPhone 16, 128GB\"}}],\"suggestions\":[{\"name\":\"Mobiltelefoner Apple iPhone 16\",\"url\":\"/cl/1/Mobiltelefoner?attr_60501678=100018036\",\"category\":null,\"type\":\"FEATURE\"},{\"name\":\"Mobiltelefoner Apple iPhone 15\",\"url\":\"/cl/1/Mobiltelefoner?attr_60501678=510242\",\"category\":null,\"type\":\"FEATURE\"},{\"name\":\"Mobiltelefoner Apple iPhone 14\",\"url\":\"/cl/1/Mobiltelefoner?attr_60501678=506790\",\"category\":null,\"type\":\"FEATURE\"},{\"name\":\"Mobiltelefoner Apple iPhone 13\",\"url\":\"/cl/1/Mobiltelefoner?attr_60501678=100005591\",\"category\":null,\"type\":\"FEATURE\"},{\"name\":\"Iphone\",\"type\":\"KEYWORD\",\"categories\":[{\"name\":\"all\",\"url\":\"/results?q=iphone\",\"subCategoryName\":null,\"type\":\"KEYWORD\"}]},{\"name\":\"Mobiltelefoner Apple iPhone 12\",\"url\":\"/cl/1/Mobiltelefoner?attr_60501678=60528977\",\"category\":null,\"type\":\"FEATURE\"}]}\n"
     ]
    }
   ],
   "source": [
    "import requests\n",
    "import json\n",
    "url='https://www.pricerunner.se/se/api/search-compare-gateway/public/search/suggest/SE?q=iphone'\n",
    "\n",
    "# Fetch price data from Pricerunner\n",
    "response = requests.get(url).content\n",
    "\n",
    "# Parse the JSON response\n",
    "data = json.loads(response)\n",
    "\n",
    "# Print the JSON response\n",
    "print(json.dumps(data, indent=4, sort_keys=True))"
   ]
  }
 ],
 "metadata": {
  "kernelspec": {
   "display_name": "Python 3",
   "language": "python",
   "name": "python3"
  },
  "language_info": {
   "codemirror_mode": {
    "name": "ipython",
    "version": 3
   },
   "file_extension": ".py",
   "mimetype": "text/x-python",
   "name": "python",
   "nbconvert_exporter": "python",
   "pygments_lexer": "ipython3",
   "version": "3.12.3"
  }
 },
 "nbformat": 4,
 "nbformat_minor": 2
}
